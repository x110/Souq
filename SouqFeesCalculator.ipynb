{
  "nbformat": 4,
  "nbformat_minor": 0,
  "metadata": {
    "colab": {
      "name": "SouqFeesCalculator.ipynb",
      "version": "0.3.2",
      "provenance": [],
      "include_colab_link": true
    },
    "kernelspec": {
      "name": "python3",
      "display_name": "Python 3"
    }
  },
  "cells": [
    {
      "cell_type": "markdown",
      "metadata": {
        "id": "view-in-github",
        "colab_type": "text"
      },
      "source": [
        "[View in Colaboratory](https://colab.research.google.com/github/x110/Souq/blob/master/SouqFeesCalculator.ipynb)"
      ]
    },
    {
      "metadata": {
        "id": "-J8cNflv35FX",
        "colab_type": "text"
      },
      "cell_type": "markdown",
      "source": [
        "## Get Data"
      ]
    },
    {
      "metadata": {
        "id": "KBdxwIdT7TBX",
        "colab_type": "code",
        "colab": {
          "base_uri": "https://localhost:8080/",
          "height": 104
        },
        "outputId": "1e03514b-4422-4e00-9086-b83fdebad669"
      },
      "cell_type": "code",
      "source": [
        "!git clone https://github.com/x110/Souq.git"
      ],
      "execution_count": 12,
      "outputs": [
        {
          "output_type": "stream",
          "text": [
            "Cloning into 'Souq'...\n",
            "remote: Counting objects: 6, done.\u001b[K\n",
            "remote: Compressing objects: 100% (4/4), done.\u001b[K\n",
            "remote: Total 6 (delta 0), reused 0 (delta 0), pack-reused 0\u001b[K\n",
            "Unpacking objects: 100% (6/6), done.\n"
          ],
          "name": "stdout"
        }
      ]
    },
    {
      "metadata": {
        "id": "NKae_lxY45GP",
        "colab_type": "text"
      },
      "cell_type": "markdown",
      "source": [
        "## Imports"
      ]
    },
    {
      "metadata": {
        "id": "SUTNHkaM40HI",
        "colab_type": "code",
        "colab": {}
      },
      "cell_type": "code",
      "source": [
        "import pandas as pd"
      ],
      "execution_count": 0,
      "outputs": []
    },
    {
      "metadata": {
        "id": "e7ezWAQv333A",
        "colab_type": "code",
        "colab": {}
      },
      "cell_type": "code",
      "source": [
        "PATH = \"Souq/\"\n",
        "RF = f\"{PATH}Referral_Fee_UAE.csv\""
      ],
      "execution_count": 0,
      "outputs": []
    },
    {
      "metadata": {
        "id": "DquBpNIE2EPD",
        "colab_type": "text"
      },
      "cell_type": "markdown",
      "source": [
        "## Calculate Souq Fees"
      ]
    },
    {
      "metadata": {
        "id": "UaFDaeZX2Ot9",
        "colab_type": "code",
        "colab": {}
      },
      "cell_type": "code",
      "source": [
        "df_RF = pd.read_csv(RF,index_col=0)#Referral Fee Table "
      ],
      "execution_count": 0,
      "outputs": []
    },
    {
      "metadata": {
        "id": "BKqUNlXc56ZN",
        "colab_type": "code",
        "colab": {
          "base_uri": "https://localhost:8080/",
          "height": 342
        },
        "outputId": "4948f6bb-586f-4f08-8c0f-269035fea4c1"
      },
      "cell_type": "code",
      "source": [
        "df_RF.head()"
      ],
      "execution_count": 16,
      "outputs": [
        {
          "output_type": "execute_result",
          "data": {
            "text/html": [
              "<div>\n",
              "<style scoped>\n",
              "    .dataframe tbody tr th:only-of-type {\n",
              "        vertical-align: middle;\n",
              "    }\n",
              "\n",
              "    .dataframe tbody tr th {\n",
              "        vertical-align: top;\n",
              "    }\n",
              "\n",
              "    .dataframe thead th {\n",
              "        text-align: right;\n",
              "    }\n",
              "</style>\n",
              "<table border=\"1\" class=\"dataframe\">\n",
              "  <thead>\n",
              "    <tr style=\"text-align: right;\">\n",
              "      <th></th>\n",
              "      <th>Item Type</th>\n",
              "      <th>UAE &amp; KSA Referral Rate (eff. From 15th May to 15th October 2018)</th>\n",
              "    </tr>\n",
              "    <tr>\n",
              "      <th>Category</th>\n",
              "      <th></th>\n",
              "      <th></th>\n",
              "    </tr>\n",
              "  </thead>\n",
              "  <tbody>\n",
              "    <tr>\n",
              "      <th>Appliances</th>\n",
              "      <td>Sewing and Accessories, Coolers, Heaters, Fans...</td>\n",
              "      <td>1%</td>\n",
              "    </tr>\n",
              "    <tr>\n",
              "      <th>Appliances</th>\n",
              "      <td>Air Conditioners, Washers Dryers 2 in 1, Washi...</td>\n",
              "      <td>5%</td>\n",
              "    </tr>\n",
              "    <tr>\n",
              "      <th>Appliances</th>\n",
              "      <td>Specialty Kitchen Appliances, Vacuums and Floo...</td>\n",
              "      <td>3%</td>\n",
              "    </tr>\n",
              "    <tr>\n",
              "      <th>Art, Crafts\\n&amp; Collectibles</th>\n",
              "      <td>Drawings &amp; Paintings, Handcrafts, Sculpture &amp; ...</td>\n",
              "      <td>3%</td>\n",
              "    </tr>\n",
              "    <tr>\n",
              "      <th>Art, Crafts\\n&amp; Collectibles</th>\n",
              "      <td>Islamic, Ethnic and Digital Art</td>\n",
              "      <td>3%</td>\n",
              "    </tr>\n",
              "  </tbody>\n",
              "</table>\n",
              "</div>"
            ],
            "text/plain": [
              "                                                                     Item Type  \\\n",
              "Category                                                                         \n",
              "Appliances                   Sewing and Accessories, Coolers, Heaters, Fans...   \n",
              "Appliances                   Air Conditioners, Washers Dryers 2 in 1, Washi...   \n",
              "Appliances                   Specialty Kitchen Appliances, Vacuums and Floo...   \n",
              "Art, Crafts\\n& Collectibles  Drawings & Paintings, Handcrafts, Sculpture & ...   \n",
              "Art, Crafts\\n& Collectibles                    Islamic, Ethnic and Digital Art   \n",
              "\n",
              "                            UAE & KSA Referral Rate (eff. From 15th May to 15th October 2018)  \n",
              "Category                                                                                       \n",
              "Appliances                                                                  1%                 \n",
              "Appliances                                                                  5%                 \n",
              "Appliances                                                                  3%                 \n",
              "Art, Crafts\\n& Collectibles                                                 3%                 \n",
              "Art, Crafts\\n& Collectibles                                                 3%                 "
            ]
          },
          "metadata": {
            "tags": []
          },
          "execution_count": 16
        }
      ]
    },
    {
      "metadata": {
        "id": "HxJ9bWWJDfoM",
        "colab_type": "code",
        "colab": {}
      },
      "cell_type": "code",
      "source": [
        "def SouqFeesCalculator(SP,rf,PROMO,Channel):\n",
        "  d = {\n",
        "       'Channel': ['FBS','MFN','FBS','MFN'],\n",
        "       'SP': [min(SP,50.0),min(SP,50.0),max(SP,51.0),max(SP,51.0)],\n",
        "       'FFFF': [4 if PROMO else 7.5, 0, 4, 4]\n",
        "      }\n",
        "  df = pd.DataFrame(data=d)\n",
        "  df['RF'] = df.apply(lambda row: rf if not (row['Channel']=='MFN' and row['SP']<=50) else 0.2,axis=1)\n",
        "  df['CF'] = df.apply(lambda row: 5.0 if(row['Channel']=='FBS' and row['SP']<=50) else 0.0,axis=1)\n",
        "  df['TF_withoutVAT'] = df.apply(lambda row: row.SP*row.RF+row.FFFF+row.CF,axis=1)\n",
        "  df['TF_withVAT'] = df.apply(lambda row: row.TF_withoutVAT*1.05,axis=1)\n",
        "  #ind = df.apply(lambda x: x.Channel==Channel and x.SP==SP,axis=1)\n",
        "  #df[ind]\n",
        "  ind = df.apply(lambda x: x.SP==SP,axis=1)\n",
        "  return df[ind]"
      ],
      "execution_count": 0,
      "outputs": []
    },
    {
      "metadata": {
        "id": "PcRWtR_eWAlp",
        "colab_type": "text"
      },
      "cell_type": "markdown",
      "source": [
        "###  Product 1"
      ]
    },
    {
      "metadata": {
        "id": "-zr4y5S0BiHy",
        "colab_type": "code",
        "colab": {
          "base_uri": "https://localhost:8080/",
          "height": 112
        },
        "outputId": "bffee14f-53ed-4338-9afa-f9092b88b788"
      },
      "cell_type": "code",
      "source": [
        "SP = 1000.0\n",
        "rf = .01 #from table\n",
        "PROMO = 1\n",
        "Channel = 'FBS'\n",
        "SouqFeesCalculator(SP,rf,PROMO,Channel)"
      ],
      "execution_count": 20,
      "outputs": [
        {
          "output_type": "execute_result",
          "data": {
            "text/html": [
              "<div>\n",
              "<style scoped>\n",
              "    .dataframe tbody tr th:only-of-type {\n",
              "        vertical-align: middle;\n",
              "    }\n",
              "\n",
              "    .dataframe tbody tr th {\n",
              "        vertical-align: top;\n",
              "    }\n",
              "\n",
              "    .dataframe thead th {\n",
              "        text-align: right;\n",
              "    }\n",
              "</style>\n",
              "<table border=\"1\" class=\"dataframe\">\n",
              "  <thead>\n",
              "    <tr style=\"text-align: right;\">\n",
              "      <th></th>\n",
              "      <th>Channel</th>\n",
              "      <th>FFFF</th>\n",
              "      <th>SP</th>\n",
              "      <th>RF</th>\n",
              "      <th>CF</th>\n",
              "      <th>TF_withoutVAT</th>\n",
              "      <th>TF_withVAT</th>\n",
              "    </tr>\n",
              "  </thead>\n",
              "  <tbody>\n",
              "    <tr>\n",
              "      <th>2</th>\n",
              "      <td>FBS</td>\n",
              "      <td>4</td>\n",
              "      <td>1000.0</td>\n",
              "      <td>0.01</td>\n",
              "      <td>0.0</td>\n",
              "      <td>14.0</td>\n",
              "      <td>14.7</td>\n",
              "    </tr>\n",
              "    <tr>\n",
              "      <th>3</th>\n",
              "      <td>MFN</td>\n",
              "      <td>4</td>\n",
              "      <td>1000.0</td>\n",
              "      <td>0.01</td>\n",
              "      <td>0.0</td>\n",
              "      <td>14.0</td>\n",
              "      <td>14.7</td>\n",
              "    </tr>\n",
              "  </tbody>\n",
              "</table>\n",
              "</div>"
            ],
            "text/plain": [
              "  Channel  FFFF      SP    RF   CF  TF_withoutVAT  TF_withVAT\n",
              "2     FBS     4  1000.0  0.01  0.0           14.0        14.7\n",
              "3     MFN     4  1000.0  0.01  0.0           14.0        14.7"
            ]
          },
          "metadata": {
            "tags": []
          },
          "execution_count": 20
        }
      ]
    },
    {
      "metadata": {
        "id": "Gn1oDq1yV5Sm",
        "colab_type": "text"
      },
      "cell_type": "markdown",
      "source": [
        "### Product 2"
      ]
    },
    {
      "metadata": {
        "id": "v-SG5gTtI0HZ",
        "colab_type": "code",
        "colab": {
          "base_uri": "https://localhost:8080/",
          "height": 112
        },
        "outputId": "31d92178-a749-4ce7-ca44-ea892267f707"
      },
      "cell_type": "code",
      "source": [
        "SP = 100.0\n",
        "rf = .04 #from table\n",
        "PROMO = 1\n",
        "Channel = 'MFN'\n",
        "SouqFeesCalculator(SP,rf,PROMO,Channel)"
      ],
      "execution_count": 21,
      "outputs": [
        {
          "output_type": "execute_result",
          "data": {
            "text/html": [
              "<div>\n",
              "<style scoped>\n",
              "    .dataframe tbody tr th:only-of-type {\n",
              "        vertical-align: middle;\n",
              "    }\n",
              "\n",
              "    .dataframe tbody tr th {\n",
              "        vertical-align: top;\n",
              "    }\n",
              "\n",
              "    .dataframe thead th {\n",
              "        text-align: right;\n",
              "    }\n",
              "</style>\n",
              "<table border=\"1\" class=\"dataframe\">\n",
              "  <thead>\n",
              "    <tr style=\"text-align: right;\">\n",
              "      <th></th>\n",
              "      <th>Channel</th>\n",
              "      <th>FFFF</th>\n",
              "      <th>SP</th>\n",
              "      <th>RF</th>\n",
              "      <th>CF</th>\n",
              "      <th>TF_withoutVAT</th>\n",
              "      <th>TF_withVAT</th>\n",
              "    </tr>\n",
              "  </thead>\n",
              "  <tbody>\n",
              "    <tr>\n",
              "      <th>2</th>\n",
              "      <td>FBS</td>\n",
              "      <td>4</td>\n",
              "      <td>100.0</td>\n",
              "      <td>0.04</td>\n",
              "      <td>0.0</td>\n",
              "      <td>8.0</td>\n",
              "      <td>8.4</td>\n",
              "    </tr>\n",
              "    <tr>\n",
              "      <th>3</th>\n",
              "      <td>MFN</td>\n",
              "      <td>4</td>\n",
              "      <td>100.0</td>\n",
              "      <td>0.04</td>\n",
              "      <td>0.0</td>\n",
              "      <td>8.0</td>\n",
              "      <td>8.4</td>\n",
              "    </tr>\n",
              "  </tbody>\n",
              "</table>\n",
              "</div>"
            ],
            "text/plain": [
              "  Channel  FFFF     SP    RF   CF  TF_withoutVAT  TF_withVAT\n",
              "2     FBS     4  100.0  0.04  0.0            8.0         8.4\n",
              "3     MFN     4  100.0  0.04  0.0            8.0         8.4"
            ]
          },
          "metadata": {
            "tags": []
          },
          "execution_count": 21
        }
      ]
    }
  ]
}